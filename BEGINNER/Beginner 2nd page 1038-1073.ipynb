{
 "cells": [
  {
   "cell_type": "markdown",
   "id": "structured-microphone",
   "metadata": {},
   "source": [
    "# URI Online Judge | 1038\n",
    "Snack"
   ]
  },
  {
   "cell_type": "code",
   "execution_count": 4,
   "id": "unusual-pollution",
   "metadata": {},
   "outputs": [
    {
     "name": "stdout",
     "output_type": "stream",
     "text": [
      "2 3\n",
      "Total: R$ 13.50\n"
     ]
    }
   ],
   "source": [
    "product_list = [\n",
    "    [1, 4.00],\n",
    "    [2, 4.50],\n",
    "    [3, 5.00],\n",
    "    [4, 2.00],\n",
    "    [5, 1.50]\n",
    "]\n",
    "line = input()\n",
    "product_code, product_quantity = line.split()\n",
    "product_code = int(product_code) - 1\n",
    "product_quantity = int(product_quantity)\n",
    "product_price = product_list[product_code][1]\n",
    "price_to_pay = product_price * product_quantity\n",
    "print(\"Total: R$ %.2f\" %price_to_pay)"
   ]
  },
  {
   "cell_type": "markdown",
   "id": "criminal-footage",
   "metadata": {},
   "source": [
    "# URI Online Judge | 1040\n",
    "Average 3"
   ]
  },
  {
   "cell_type": "code",
   "execution_count": 16,
   "id": "raised-trust",
   "metadata": {},
   "outputs": [
    {
     "name": "stdout",
     "output_type": "stream",
     "text": [
      "9.0 4.0 8.5 9.0\n",
      "Media: 7.3\n",
      "Aluno aprovado.\n"
     ]
    }
   ],
   "source": [
    "line = input()\n",
    "a, b, c, d = line.split()\n",
    "a = float(a)\n",
    "b = float(b)\n",
    "c = float(c)\n",
    "d = float(d)\n",
    "average = ((a*2) + (b*3) + (c*4) + (d*1)) / (2 + 3 + 4 + 1)\n",
    "print(\"Media: %.1f\" %average)\n",
    "\n",
    "if (average >= 7):\n",
    "    print(\"Aluno aprovado.\")\n",
    "elif (average < 5):\n",
    "    print(\"Aluno reprovado.\")\n",
    "else:\n",
    "    print(\"Aluno em exame.\")\n",
    "    d = float(input())\n",
    "    print(\"Nota do exame: %.1f\" %d)\n",
    "    final_average = (average + d) / 2\n",
    "    if (final_average >= 5):\n",
    "        print(\"Aluno aprovado.\")\n",
    "    else:\n",
    "        print(\"Aluno reprovado.\")\n",
    "    print(\"Media final: %.1f\" %final_average)"
   ]
  },
  {
   "cell_type": "markdown",
   "id": "exact-denmark",
   "metadata": {},
   "source": [
    "# URI Online Judge | 1041\n",
    "Coordinates of a Point "
   ]
  },
  {
   "cell_type": "code",
   "execution_count": 6,
   "id": "atlantic-providence",
   "metadata": {},
   "outputs": [
    {
     "name": "stdout",
     "output_type": "stream",
     "text": [
      "0 2.2\n",
      "Eixo X\n"
     ]
    }
   ],
   "source": [
    "line = input()\n",
    "x, y = line.split()\n",
    "x = float(x)\n",
    "y = float(y)\n",
    "\n",
    "if (x==0 or y==0):\n",
    "    if (x==0 and y==0):\n",
    "        print(\"Origem\")\n",
    "    elif (x==0):\n",
    "        print(\"Eixo X\")\n",
    "    else:\n",
    "        print(\"Eixo Y\")\n",
    "else:\n",
    "    if (x>0):\n",
    "        if (y>0):\n",
    "            print(\"Q1\")\n",
    "        else:\n",
    "            print(\"Q4\")\n",
    "    else:\n",
    "        if (y>0):\n",
    "            print(\"Q2\")\n",
    "        else:\n",
    "            print(\"Q3\")"
   ]
  },
  {
   "cell_type": "code",
   "execution_count": 15,
   "id": "hairy-jonathan",
   "metadata": {},
   "outputs": [
    {
     "name": "stdout",
     "output_type": "stream",
     "text": [
      "0.2 025\n",
      "Q1\n"
     ]
    }
   ],
   "source": [
    "line = input()\n",
    "x, y = line.split()\n",
    "x = float(x)\n",
    "y = float(y)\n",
    "\n",
    "if(x==0 and y==0):\n",
    "    print(\"Origem\")\n",
    "elif(x==0):\n",
    "    print(\"Eixo Y\")\n",
    "elif(y==0):\n",
    "    print(\"Eixo X\")\n",
    "elif(x>0 and y>0):\n",
    "    print(\"Q1\")\n",
    "elif(x<0 and y>0):\n",
    "    print(\"Q2\")\n",
    "elif(x<0 and y<0):\n",
    "    print(\"Q3\")\n",
    "elif(x>0 and y<0):\n",
    "    print(\"Q4\")"
   ]
  },
  {
   "cell_type": "code",
   "execution_count": null,
   "id": "challenging-example",
   "metadata": {},
   "outputs": [],
   "source": [
    "X,Y=list(map(float,input().split()))\n",
    "if(X==0 and Y==0):\n",
    "    print(\"Origem\")\n",
    "elif(X==0):\n",
    "    print(\"Eixo Y\")\n",
    "elif(Y==0):\n",
    "    print(\"Eixo X\")\n",
    "elif(X>0 and Y>0):\n",
    "    print(\"Q1\")\n",
    "elif(X<0 and Y>0):\n",
    "    print(\"Q2\")\n",
    "elif(X<0 and Y<0):\n",
    "    print(\"Q3\")\n",
    "elif(X>0 and Y<0):\n",
    "    print(\"Q4\")"
   ]
  },
  {
   "cell_type": "markdown",
   "id": "provincial-venice",
   "metadata": {},
   "source": [
    "# URI Online Judge | 1042\n",
    "Simple Sort"
   ]
  },
  {
   "cell_type": "code",
   "execution_count": 40,
   "id": "imposed-replacement",
   "metadata": {},
   "outputs": [
    {
     "name": "stdout",
     "output_type": "stream",
     "text": [
      "-14 21 7\n",
      "-14\n",
      "7\n",
      "21\n",
      "\n",
      "-14\n",
      "21\n",
      "7\n"
     ]
    }
   ],
   "source": [
    "list1 = list(map(int, input().split()))\n",
    "\n",
    "# list.copy() is used when orignal list need to be unchanged\n",
    "# otherwise both new and old list will be changed if any one is changed\n",
    "list2 = list1.copy()\n",
    "list1.sort()\n",
    "\n",
    "for i in range(len(list1)):\n",
    "    print(list1[i])\n",
    "print() \n",
    "for i in range(len(list2)):\n",
    "    print(list2[i])"
   ]
  },
  {
   "cell_type": "markdown",
   "id": "above-gasoline",
   "metadata": {},
   "source": [
    "# URI Online Judge | 1043\n",
    "Triangle"
   ]
  },
  {
   "cell_type": "code",
   "execution_count": 2,
   "id": "congressional-ladder",
   "metadata": {},
   "outputs": [
    {
     "name": "stdout",
     "output_type": "stream",
     "text": [
      "6.0 4.0 2.1\n",
      "Perimetro = 12.1\n"
     ]
    }
   ],
   "source": [
    "a, b ,c = list(map(float, input().split()))\n",
    "\n",
    "if ((a<b+c) and (b<a+c) and (c<a+b)):\n",
    "    perimeter = a + b + c\n",
    "    print(\"Perimetro = %.1f\" %perimeter)\n",
    "else:\n",
    "    area = ((a+b) * c) /2\n",
    "    print(\"Area = %.1f\" %area)"
   ]
  },
  {
   "cell_type": "markdown",
   "id": "specialized-devil",
   "metadata": {},
   "source": [
    "# URI Online Judge | 1044\n",
    "Multiples"
   ]
  },
  {
   "cell_type": "code",
   "execution_count": 5,
   "id": "mediterranean-avatar",
   "metadata": {},
   "outputs": [
    {
     "name": "stdout",
     "output_type": "stream",
     "text": [
      "6 25\n",
      "Nao sao Multiplos\n"
     ]
    }
   ],
   "source": [
    "a, b = list(map(int, input().split()))\n",
    "\n",
    "if (a%b == 0) or (b%a == 0):\n",
    "    print(\"Sao Multiplos\")\n",
    "else:\n",
    "    print(\"Nao sao Multiplos\")"
   ]
  },
  {
   "cell_type": "markdown",
   "id": "neural-champion",
   "metadata": {},
   "source": [
    "# URI Online Judge | 1045\n",
    "Triangle Types"
   ]
  },
  {
   "cell_type": "code",
   "execution_count": 29,
   "id": "limited-stuart",
   "metadata": {},
   "outputs": [
    {
     "name": "stdout",
     "output_type": "stream",
     "text": [
      "5.0 7.0 2.0\n",
      "NAO FORMA TRIANGULO\n",
      "TRIANGULO OBTUSANGULO\n"
     ]
    }
   ],
   "source": [
    "line = list(map(float, input().split()))\n",
    "# print(line)\n",
    "line.sort()\n",
    "# print(line)\n",
    "\n",
    "# print(line.pop())\n",
    "# print(line.pop())\n",
    "# print(line.pop())\n",
    "# print(line.pop())\n",
    "\n",
    "a = line.pop()\n",
    "b = line.pop()\n",
    "c = line.pop()\n",
    "\n",
    "if (a >= (b+c)):\n",
    "    print(\"NAO FORMA TRIANGULO\")\n",
    "if (a**2 == (b**2 + c**2)):\n",
    "    print(\"TRIANGULO RETANGULO\")\n",
    "if (a**2 > (b**2 + c**2)):\n",
    "    print(\"TRIANGULO OBTUSANGULO\")\n",
    "if (a**2 < (b**2 + c**2)):\n",
    "    print(\"TRIANGULO ACUTANGULO\")\n",
    "if (a == b == c):\n",
    "    print(\"TRIANGULO EQUILATERO\")\n",
    "if (((a==b) and (a!=c)) or ((b==c) and (b!=a))):\n",
    "    print(\"TRIANGULO ISOSCELES\")\n"
   ]
  },
  {
   "cell_type": "code",
   "execution_count": 30,
   "id": "hairy-receipt",
   "metadata": {},
   "outputs": [
    {
     "name": "stdout",
     "output_type": "stream",
     "text": [
      "5.0 7.0 2.0\n",
      "NAO FORMA TRIANGULO\n"
     ]
    }
   ],
   "source": [
    "line = list(map(float, input().split()))\n",
    "line.sort()\n",
    "a = line.pop()\n",
    "b = line.pop()\n",
    "c = line.pop()\n",
    "\n",
    "if (a >= (b+c)):\n",
    "    print(\"NAO FORMA TRIANGULO\")\n",
    "elif (a**2 == (b**2 + c**2)):\n",
    "    print(\"TRIANGULO RETANGULO\")\n",
    "elif (a**2 > (b**2 + c**2)):\n",
    "    print(\"TRIANGULO OBTUSANGULO\")\n",
    "elif (a**2 < (b**2 + c**2)):\n",
    "    print(\"TRIANGULO ACUTANGULO\")\n",
    "if (a == b == c):\n",
    "    print(\"TRIANGULO EQUILATERO\")\n",
    "if (((a==b) and (a!=c)) or ((b==c) and (b!=a))):\n",
    "    print(\"TRIANGULO ISOSCELES\")\n"
   ]
  },
  {
   "cell_type": "markdown",
   "id": "neural-vessel",
   "metadata": {},
   "source": [
    "# URI Online Judge | 1046\n",
    "Game Time"
   ]
  },
  {
   "cell_type": "code",
   "execution_count": 37,
   "id": "dynamic-egyptian",
   "metadata": {},
   "outputs": [
    {
     "name": "stdout",
     "output_type": "stream",
     "text": [
      "0 0\n",
      "O JOGO DUROU 0 HORA(S)\n"
     ]
    }
   ],
   "source": [
    "a, b = list(map(int, input().split()))\n",
    "\n",
    "\n",
    "if (a>b):\n",
    "    time = (24-a) + b\n",
    "else:\n",
    "    time = b - a\n",
    "print(\"O JOGO DUROU\", time, \"HORA(S)\")"
   ]
  },
  {
   "cell_type": "code",
   "execution_count": null,
   "id": "floral-framework",
   "metadata": {},
   "outputs": [],
   "source": [
    "a,b=list(map(int,input().split()))\n",
    "if(a<b):\n",
    "    time=b-a\n",
    "else:\n",
    "    time=b+24-a\n",
    "print(f\"O JOGO DUROU {time} HORA(S)\")"
   ]
  },
  {
   "cell_type": "markdown",
   "id": "latin-terminology",
   "metadata": {},
   "source": [
    "# URI Online Judge | 1047\n",
    "Game Time with Minutes"
   ]
  },
  {
   "cell_type": "code",
   "execution_count": 18,
   "id": "sophisticated-necklace",
   "metadata": {},
   "outputs": [
    {
     "name": "stdout",
     "output_type": "stream",
     "text": [
      "7 7 7 7\n",
      "O JOGO DUROU 24 HORA(S) E 0 MINUTO(S)\n"
     ]
    }
   ],
   "source": [
    "hour_a, min_a, hour_b, min_b = list(map(int, input().split()))\n",
    "\n",
    "inital_time = (hour_a * 60) + min_a\n",
    "final_time = (hour_b * 60) + min_b\n",
    "\n",
    "diff = final_time - inital_time\n",
    "\n",
    "if (diff <= 0):\n",
    "    diff += (24*60)\n",
    "\n",
    "total_hour = diff // 60\n",
    "total_min = diff % 60\n",
    "\n",
    "print(f\"O JOGO DUROU {total_hour} HORA(S) E {total_min} MINUTO(S)\")"
   ]
  },
  {
   "cell_type": "markdown",
   "id": "mounted-consultancy",
   "metadata": {},
   "source": [
    "# URI Online Judge | 1048\n",
    "Salary Increase"
   ]
  },
  {
   "cell_type": "code",
   "execution_count": 41,
   "id": "korean-contractor",
   "metadata": {},
   "outputs": [
    {
     "name": "stdout",
     "output_type": "stream",
     "text": [
      "800.01\n",
      "Novo salario: 880.01\n",
      "Reajuste ganho: 80.00\n",
      "Em percentual: 10 %\n"
     ]
    }
   ],
   "source": [
    "salary = float(input())\n",
    "\n",
    "if (salary <= 400):\n",
    "    percentage = 15\n",
    "    increment = (salary * percentage) / 100\n",
    "elif (salary <= 800):\n",
    "    percentage = 12\n",
    "    increment = (salary * percentage) / 100\n",
    "elif (salary <= 1200):\n",
    "    percentage = 10\n",
    "    increment = (salary * percentage) / 100\n",
    "elif (salary <= 2000):\n",
    "    percentage = 7\n",
    "    increment = (salary * percentage) / 100\n",
    "else:\n",
    "    percentage = 4\n",
    "    increment = (salary * percentage) / 100\n",
    "\n",
    "new_salary = salary + increment\n",
    "print(\"Novo salario: %.2f\" %new_salary)\n",
    "print(\"Reajuste ganho: %.2f\" %increment)\n",
    "print(\"Em percentual:\", percentage, \"%\")"
   ]
  },
  {
   "cell_type": "markdown",
   "id": "flush-jason",
   "metadata": {},
   "source": [
    "# URI Online Judge | 1049\n",
    "Animal"
   ]
  },
  {
   "cell_type": "code",
   "execution_count": 50,
   "id": "cleared-bundle",
   "metadata": {},
   "outputs": [
    {
     "name": "stdout",
     "output_type": "stream",
     "text": [
      "vertebrado\n",
      "mamifero\n",
      "onivoro\n",
      "homem\n"
     ]
    }
   ],
   "source": [
    "word_1, word_2, word_3 = list(map(str,input().split()))\n",
    "\n",
    "if (word_1 == \"vertebrado\"):\n",
    "    if (word_2 == \"ave\"):\n",
    "        if (word_3 == \"carnivoro\"):\n",
    "            print(\"aguia\")\n",
    "        elif (word_3 == \"onivoro\"):\n",
    "            print(\"pomba\")\n",
    "    elif (word_2 == \"mamifero\"):\n",
    "        if (word_3 == \"onivoro\"):\n",
    "            print(\"homem\")\n",
    "        elif (word_3 == \"herbivoro\"):\n",
    "            print(\"vaca\")\n",
    "elif (word_1 == \"invertebrado\"):\n",
    "    if (word_2 == \"inseto\"):\n",
    "        if (word_3 == \"hematofago\"):\n",
    "            print(\"pulga\")\n",
    "        elif (word_3 == \"herbivoro\"):\n",
    "            print(\"lagarta\")\n",
    "    elif (word_2 == \"anelideo\"):\n",
    "        if (word_3 == \"hematofago\"):\n",
    "            print(\"sanguessuga\")\n",
    "        elif (word_3 == \"onivoro\"):\n",
    "            print(\"minhoca\")"
   ]
  },
  {
   "cell_type": "code",
   "execution_count": null,
   "id": "egyptian-oxide",
   "metadata": {},
   "outputs": [],
   "source": [
    "\n",
    "word_1 = input()\n",
    "word_2 = input()\n",
    "word_3 = input()\n",
    "\n",
    "if (word_1 == \"vertebrado\"):\n",
    "    if (word_2 == \"ave\"):\n",
    "        if (word_3 == \"carnivoro\"):\n",
    "            print(\"aguia\")\n",
    "        elif (word_3 == \"onivoro\"):\n",
    "            print(\"pomba\")\n",
    "    elif (word_2 == \"mamifero\"):\n",
    "        if (word_3 == \"onivoro\"):\n",
    "            print(\"homem\")\n",
    "        elif (word_3 == \"herbivoro\"):\n",
    "            print(\"vaca\")\n",
    "elif (word_1 == \"invertebrado\"):\n",
    "    if (word_2 == \"inseto\"):\n",
    "        if (word_3 == \"hematofago\"):\n",
    "            print(\"pulga\")\n",
    "        elif (word_3 == \"herbivoro\"):\n",
    "            print(\"lagarta\")\n",
    "    elif (word_2 == \"anelideo\"):\n",
    "        if (word_3 == \"hematofago\"):\n",
    "            print(\"sanguessuga\")\n",
    "        elif (word_3 == \"onivoro\"):\n",
    "            print(\"minhoca\")"
   ]
  },
  {
   "cell_type": "markdown",
   "id": "ultimate-layer",
   "metadata": {},
   "source": [
    "# URI Online Judge | 1050\n",
    "DDD"
   ]
  },
  {
   "cell_type": "code",
   "execution_count": 10,
   "id": "quantitative-compensation",
   "metadata": {},
   "outputs": [
    {
     "name": "stdout",
     "output_type": "stream",
     "text": [
      "25\n",
      "DDD nao cadastrado\n"
     ]
    }
   ],
   "source": [
    "phone_book = {\n",
    "    61 : \"Brasilia\",\n",
    "    71 : \"Salvador\",\n",
    "    11 : \"Sao Paulo\",\n",
    "    21 : \"Rio de Janeiro\",\n",
    "    32 : \"Juiz de Fora\",\n",
    "    19 : \"Campinas\",\n",
    "    27 : \"Vitoria\",\n",
    "    31 : \"Belo Horizonte\"\n",
    "}\n",
    "\n",
    "code = int(input())\n",
    "\n",
    "if (code in phone_book.keys()):\n",
    "    print(phone_book[code])\n",
    "else:\n",
    "    print(\"DDD nao cadastrado\")"
   ]
  },
  {
   "cell_type": "markdown",
   "id": "tracked-needle",
   "metadata": {},
   "source": [
    "# URI Online Judge | 1051\n",
    "Taxes"
   ]
  },
  {
   "cell_type": "code",
   "execution_count": 9,
   "id": "capable-train",
   "metadata": {},
   "outputs": [
    {
     "name": "stdout",
     "output_type": "stream",
     "text": [
      "3002.00\n",
      "R$ 80.36\n"
     ]
    }
   ],
   "source": [
    "def percent_8(salary):\n",
    "    rest = salary - 2000\n",
    "    tax = rest * .08\n",
    "#     print(\"1\", tax)\n",
    "    return tax\n",
    "\n",
    "def percent_18(salary):\n",
    "    rest = salary - 3000\n",
    "    tax = rest * .18 + percent_8(3000)\n",
    "#     print(\"2\", tax)\n",
    "    return tax\n",
    "\n",
    "def percent_28(salary):\n",
    "    rest = salary - 4500\n",
    "    tax = rest * .28 + percent_18(4500)\n",
    "#     print(\"3\", tax)\n",
    "    return tax\n",
    "\n",
    "salary = float(input())\n",
    "\n",
    "if ( 0 < salary <= 2000):\n",
    "    print(\"Isento\")\n",
    "elif ( 2000 < salary <= 3000):\n",
    "    print(\"R$ %.2f\" %percent_8(salary))\n",
    "elif ( 3000 < salary <= 4500):\n",
    "    print(\"R$ %.2f\" %percent_18(salary))\n",
    "elif ( salary > 4500 ):\n",
    "    print(\"R$ %.2f\" %percent_28(salary))\n"
   ]
  },
  {
   "cell_type": "code",
   "execution_count": null,
   "id": "future-spray",
   "metadata": {},
   "outputs": [],
   "source": []
  },
  {
   "cell_type": "code",
   "execution_count": null,
   "id": "elegant-concrete",
   "metadata": {},
   "outputs": [],
   "source": []
  },
  {
   "cell_type": "code",
   "execution_count": null,
   "id": "opened-cigarette",
   "metadata": {},
   "outputs": [],
   "source": []
  },
  {
   "cell_type": "code",
   "execution_count": null,
   "id": "ranking-phoenix",
   "metadata": {},
   "outputs": [],
   "source": []
  },
  {
   "cell_type": "code",
   "execution_count": null,
   "id": "intensive-crash",
   "metadata": {},
   "outputs": [],
   "source": []
  },
  {
   "cell_type": "code",
   "execution_count": null,
   "id": "desperate-tractor",
   "metadata": {},
   "outputs": [],
   "source": []
  },
  {
   "cell_type": "code",
   "execution_count": null,
   "id": "oriented-removal",
   "metadata": {},
   "outputs": [],
   "source": []
  },
  {
   "cell_type": "code",
   "execution_count": null,
   "id": "biological-lesbian",
   "metadata": {},
   "outputs": [],
   "source": []
  }
 ],
 "metadata": {
  "kernelspec": {
   "display_name": "Python 3",
   "language": "python",
   "name": "python3"
  },
  "language_info": {
   "codemirror_mode": {
    "name": "ipython",
    "version": 3
   },
   "file_extension": ".py",
   "mimetype": "text/x-python",
   "name": "python",
   "nbconvert_exporter": "python",
   "pygments_lexer": "ipython3",
   "version": "3.8.5"
  }
 },
 "nbformat": 4,
 "nbformat_minor": 5
}
