{
 "cells": [
  {
   "cell_type": "markdown",
   "id": "bridal-margin",
   "metadata": {},
   "source": [
    "# URI Online Judge | 1000\n",
    "Hello World!"
   ]
  },
  {
   "cell_type": "code",
   "execution_count": null,
   "id": "biblical-jimmy",
   "metadata": {},
   "outputs": [],
   "source": [
    "print(\"Hello World!\")"
   ]
  },
  {
   "cell_type": "markdown",
   "id": "superior-sacrifice",
   "metadata": {},
   "source": [
    "# URI Online Judge | 1001\n",
    "Extremely Basic"
   ]
  },
  {
   "cell_type": "code",
   "execution_count": 1,
   "id": "false-horror",
   "metadata": {},
   "outputs": [
    {
     "name": "stdout",
     "output_type": "stream",
     "text": [
      "10\n",
      "9\n",
      "X = 19\n"
     ]
    }
   ],
   "source": [
    "A = int(input())\n",
    "B = int(input())\n",
    "X = A + B\n",
    "print(\"X =\", X)"
   ]
  },
  {
   "cell_type": "markdown",
   "id": "infrared-drain",
   "metadata": {},
   "source": [
    "# URI Online Judge | 1002\n",
    "Area of a Circle"
   ]
  },
  {
   "cell_type": "markdown",
   "id": "careful-consumer",
   "metadata": {},
   "source": [
    "    round(temp, 4) #10.1234\n",
    "    round(temp, 2) #10.12\n",
    "    round(variable, decimal point after .)"
   ]
  },
  {
   "cell_type": "code",
   "execution_count": 12,
   "id": "enhanced-intermediate",
   "metadata": {},
   "outputs": [
    {
     "name": "stdout",
     "output_type": "stream",
     "text": [
      "2.00\n",
      "A=12.5664\n"
     ]
    }
   ],
   "source": [
    "n = 3.14159\n",
    "R = float(input())\n",
    "A = round(n * R**2, 4)\n",
    "# print(\"A=\" + str(A))\n",
    "print(f\"A={A}\")"
   ]
  },
  {
   "cell_type": "code",
   "execution_count": null,
   "id": "mediterranean-present",
   "metadata": {},
   "outputs": [],
   "source": [
    "r = float(input())\n",
    "pi = 3.14159\n",
    "a = pi * (pow(r,2))\n",
    "print(\"A=%.4f\"% a)"
   ]
  },
  {
   "cell_type": "markdown",
   "id": "satisfactory-antigua",
   "metadata": {},
   "source": [
    "    print with %d for integer\n",
    "    print with %f for float\n",
    "    print with %s for string"
   ]
  },
  {
   "cell_type": "code",
   "execution_count": 18,
   "id": "conventional-handy",
   "metadata": {},
   "outputs": [
    {
     "name": "stdout",
     "output_type": "stream",
     "text": [
      "2.00\n",
      "A=12.5664\n"
     ]
    }
   ],
   "source": [
    "n = 3.14159\n",
    "R = float(input())\n",
    "A = n * R**2\n",
    "# print(\"A=\" + str(A))\n",
    "print(\"A=%.4f\"%A)"
   ]
  },
  {
   "cell_type": "markdown",
   "id": "actual-helmet",
   "metadata": {},
   "source": [
    "# URI Online Judge | 1003\n",
    "Simple Sum"
   ]
  },
  {
   "cell_type": "code",
   "execution_count": 19,
   "id": "least-tucson",
   "metadata": {},
   "outputs": [
    {
     "name": "stdout",
     "output_type": "stream",
     "text": [
      "10\n",
      "30\n",
      "SOMA = 40\n"
     ]
    }
   ],
   "source": [
    "A = int(input())\n",
    "B = int(input())\n",
    "SOMA = A + B\n",
    "print(\"SOMA =\", SOMA)"
   ]
  },
  {
   "cell_type": "markdown",
   "id": "organic-crest",
   "metadata": {},
   "source": [
    "# URI Online Judge | 1004\n",
    "Simple Product"
   ]
  },
  {
   "cell_type": "code",
   "execution_count": 20,
   "id": "existing-frontier",
   "metadata": {},
   "outputs": [
    {
     "name": "stdout",
     "output_type": "stream",
     "text": [
      "3\n",
      "9\n",
      "PROD = 27\n"
     ]
    }
   ],
   "source": [
    "a = int(input())\n",
    "b = int(input())\n",
    "prod = a * b\n",
    "print(\"PROD =\", prod)"
   ]
  },
  {
   "cell_type": "markdown",
   "id": "hired-chess",
   "metadata": {},
   "source": [
    "# URI Online Judge | 1005\n",
    "Average 1"
   ]
  },
  {
   "cell_type": "code",
   "execution_count": 8,
   "id": "signal-burke",
   "metadata": {},
   "outputs": [
    {
     "name": "stdout",
     "output_type": "stream",
     "text": [
      "5.0\n",
      "7.1\n",
      "MEDIA = 6.43182\n"
     ]
    }
   ],
   "source": [
    "a = float(input())\n",
    "b = float(input())\n",
    "media = (a*3.5 + b*7.5) / (3.5+7.5)\n",
    "print(\"MEDIA = %.5f\" %media)"
   ]
  },
  {
   "cell_type": "code",
   "execution_count": 15,
   "id": "spatial-musician",
   "metadata": {},
   "outputs": [
    {
     "name": "stdout",
     "output_type": "stream",
     "text": [
      "5.0\n",
      "7.1\n",
      "MEDIA = 7.07500\n"
     ]
    }
   ],
   "source": [
    "a = float(input())\n",
    "b = float(input())\n",
    "media = ((a/10)*3.5) + ((b/10) * 7.5)\n",
    "print(\"MEDIA = %.5f\" %media)"
   ]
  },
  {
   "cell_type": "markdown",
   "id": "approved-competition",
   "metadata": {},
   "source": [
    "# URI Online Judge | 1006\n",
    "Average 2"
   ]
  },
  {
   "cell_type": "code",
   "execution_count": 12,
   "id": "imported-consistency",
   "metadata": {},
   "outputs": [
    {
     "name": "stdout",
     "output_type": "stream",
     "text": [
      "10\n",
      "10\n",
      "5\n",
      "MEDIA = 7.5\n"
     ]
    }
   ],
   "source": [
    "a = float(input())\n",
    "b = float(input())\n",
    "c = float(input())\n",
    "media = (a*2 + b*3 + c*5) / (2+3+5)\n",
    "print(\"MEDIA = %.1f\"%media)"
   ]
  },
  {
   "cell_type": "code",
   "execution_count": 14,
   "id": "distinct-district",
   "metadata": {},
   "outputs": [
    {
     "name": "stdout",
     "output_type": "stream",
     "text": [
      "5\n",
      "6\n",
      "7\n",
      "MEDIA = 6.3\n"
     ]
    }
   ],
   "source": [
    "a = float(input())\n",
    "b = float(input())\n",
    "c = float(input())\n",
    "media = ((a/10)*2) + ((b/10)*3) + ((c/10)*5)\n",
    "print(\"MEDIA =\", media)"
   ]
  },
  {
   "cell_type": "markdown",
   "id": "exposed-armenia",
   "metadata": {},
   "source": [
    "# URI Online Judge | 1007\n",
    "Difference"
   ]
  },
  {
   "cell_type": "code",
   "execution_count": 18,
   "id": "noticed-imperial",
   "metadata": {},
   "outputs": [
    {
     "name": "stdout",
     "output_type": "stream",
     "text": [
      "5\n",
      "6\n",
      "-7\n",
      "8\n",
      "DIFERENCA = 86\n"
     ]
    }
   ],
   "source": [
    "a = int(input())\n",
    "b = int(input())\n",
    "c = int(input())\n",
    "d = int(input())\n",
    "difference = (a * b) - (c * d)\n",
    "print(\"DIFERENCA =\", difference)"
   ]
  },
  {
   "cell_type": "markdown",
   "id": "expensive-buffalo",
   "metadata": {},
   "source": [
    "# URI Online Judge | 1008\n",
    "Salary"
   ]
  },
  {
   "cell_type": "code",
   "execution_count": 21,
   "id": "wound-priest",
   "metadata": {},
   "outputs": [
    {
     "name": "stdout",
     "output_type": "stream",
     "text": [
      "6\n",
      "145\n",
      "5.50\n",
      "NUMBER = 6\n",
      "SALARY = U$ 797.50\n"
     ]
    }
   ],
   "source": [
    "num = int(input())\n",
    "worked_hour = int(input())\n",
    "amount_per_hour = float(input())\n",
    "salary = worked_hour * amount_per_hour\n",
    "print(\"NUMBER =\", num)\n",
    "print(\"SALARY = U$ %.2f\" %salary)"
   ]
  },
  {
   "cell_type": "markdown",
   "id": "satisfied-despite",
   "metadata": {},
   "source": [
    "# URI Online Judge | 1009\n",
    "Salary with Bonus"
   ]
  },
  {
   "cell_type": "code",
   "execution_count": 23,
   "id": "packed-round",
   "metadata": {},
   "outputs": [
    {
     "name": "stdout",
     "output_type": "stream",
     "text": [
      "PEDRO\n",
      "700.00\n",
      ".00\n",
      "TOTAL = R$ 700.00\n"
     ]
    }
   ],
   "source": [
    "name = input()\n",
    "fixed_salary = float(input())\n",
    "sales = float(input())\n",
    "sales_bonus  = sales * .15\n",
    "salary = fixed_salary + sales_bonus\n",
    "print(\"TOTAL = R$ %.2f\" %salary)"
   ]
  },
  {
   "cell_type": "markdown",
   "id": "important-federal",
   "metadata": {},
   "source": [
    "# URI Online Judge | 1010\n",
    "Simple Calculate"
   ]
  },
  {
   "cell_type": "code",
   "execution_count": 28,
   "id": "fewer-retreat",
   "metadata": {},
   "outputs": [
    {
     "name": "stdout",
     "output_type": "stream",
     "text": [
      "13\n",
      "2\n",
      "15.30\n",
      "161\n",
      "4\n",
      "5.20\n",
      "VALOR A PAGAR: R$ 51.40\n"
     ]
    }
   ],
   "source": [
    "product1_id = int(input())\n",
    "product1_unit = int(input())\n",
    "product1_price = float(input())\n",
    "product2_id = int(input())\n",
    "product2_unit = int(input())\n",
    "product2_price = float(input())\n",
    "value_to_pay = (product1_unit * product1_price) + (product2_unit * product2_price)\n",
    "print(\"VALOR A PAGAR: R$ %.2f\" %value_to_pay)"
   ]
  },
  {
   "cell_type": "code",
   "execution_count": 32,
   "id": "arranged-commons",
   "metadata": {},
   "outputs": [
    {
     "name": "stdout",
     "output_type": "stream",
     "text": [
      "12 1 5.30\n",
      "16 2 5.10\n",
      "VALOR A PAGAR: R$ 15.50\n"
     ]
    }
   ],
   "source": [
    "line1 = input().split()\n",
    "line2 = input().split()\n",
    "product1_id, product1_unit, product1_price = line1\n",
    "product2_id, product2_unit, product2_price = line2\n",
    "value_to_pay = (int(product1_unit) * float(product1_price)) + (int(product2_unit) * float(product2_price))\n",
    "print(\"VALOR A PAGAR: R$ %.2f\" %value_to_pay)"
   ]
  },
  {
   "cell_type": "code",
   "execution_count": 9,
   "id": "desperate-frost",
   "metadata": {},
   "outputs": [
    {
     "name": "stdout",
     "output_type": "stream",
     "text": [
      "8\n",
      "e\n",
      "7\n"
     ]
    }
   ],
   "source": [
    "def decimalToBinary(n): \n",
    "    return hex(n).replace(\"0x\", \"\") \n",
    "   \n",
    "# Driver code \n",
    "if __name__ == '__main__': \n",
    "    print(decimalToBinary(8)) \n",
    "    print(decimalToBinary(14)) \n",
    "    print(decimalToBinary(7)) "
   ]
  },
  {
   "cell_type": "markdown",
   "id": "covered-ending",
   "metadata": {},
   "source": [
    "# URI Online Judge | 1011\n",
    "Sphere"
   ]
  },
  {
   "cell_type": "code",
   "execution_count": 4,
   "id": "second-dimension",
   "metadata": {},
   "outputs": [
    {
     "name": "stdout",
     "output_type": "stream",
     "text": [
      "15\n",
      "VOLUME = 14137.155\n"
     ]
    }
   ],
   "source": [
    "pi = 3.14159\n",
    "r = float(input())\n",
    "volume = (4/3) * pi * (r**3)\n",
    "print(\"VOLUME = %.3f\" %volume)"
   ]
  },
  {
   "cell_type": "markdown",
   "id": "hourly-occurrence",
   "metadata": {},
   "source": [
    "# URI Online Judge | 1012\n",
    "Area"
   ]
  },
  {
   "cell_type": "code",
   "execution_count": 13,
   "id": "narrow-atlas",
   "metadata": {},
   "outputs": [
    {
     "name": "stdout",
     "output_type": "stream",
     "text": [
      "3.0 4.0 5.2\n",
      "TRIANGULO: 7.800\n",
      "CIRCULO: 84.949\n",
      "TRAPEZIO: 18.200\n",
      "QUADRADO: 16.000\n",
      "RETANGULO: 12.000\n"
     ]
    }
   ],
   "source": [
    "line = input()\n",
    "a, b ,c = line.split()\n",
    "a = float(a)\n",
    "b = float(b)\n",
    "c = float(c)\n",
    "pi = 3.14159\n",
    "# triangle area = (base * height) / 2   \n",
    "# a = bh/2\n",
    "triangle = a*c / 2\n",
    "print(\"TRIANGULO: %.3f\" %triangle)\n",
    "# trapezium circle = pi * (radius**2)\n",
    "# (A = π r²)\n",
    "circle = pi * (c**2)\n",
    "print(\"CIRCULO: %.3f\" %circle)\n",
    "# area = height * ((base1 + base2) / 2)\n",
    "trapezium  = ((a+b) / 2) * c\n",
    "print(\"TRAPEZIO: %.3f\" %trapezium)\n",
    "# square area = base**2\n",
    "# A = s x s\n",
    "square = b ** 2\n",
    "print(\"QUADRADO: %.3f\" %square)\n",
    "# rectangle area = height * width\n",
    "# A = L * W\n",
    "rectangle = a * b\n",
    "print(\"RETANGULO: %.3f\" %rectangle)"
   ]
  },
  {
   "cell_type": "markdown",
   "id": "biblical-rates",
   "metadata": {},
   "source": [
    "# URI Online Judge | 1013\n",
    "The Greatest"
   ]
  },
  {
   "cell_type": "code",
   "execution_count": 19,
   "id": "owned-communications",
   "metadata": {},
   "outputs": [
    {
     "name": "stdout",
     "output_type": "stream",
     "text": [
      "217 14 6\n",
      "217 eh o maior\n"
     ]
    }
   ],
   "source": [
    "line = input()\n",
    "a, b, c = line.split()\n",
    "a = int(a)\n",
    "b = int(b)\n",
    "c = int(c)\n",
    "d = ((a + b + abs(a-b)) / 2)\n",
    "maior_ac = int(((d + c + abs(d-c)) / 2))\n",
    "print(maior_ac, \"eh o maior\")"
   ]
  },
  {
   "cell_type": "markdown",
   "id": "generic-silver",
   "metadata": {},
   "source": [
    "# URI Online Judge | 1014\n",
    "Consumption"
   ]
  },
  {
   "cell_type": "code",
   "execution_count": 24,
   "id": "expensive-leisure",
   "metadata": {},
   "outputs": [
    {
     "name": "stdout",
     "output_type": "stream",
     "text": [
      "4554\n",
      "464.6\n",
      "9.802 km/l\n"
     ]
    }
   ],
   "source": [
    "km = int(input())\n",
    "liters = float(input())\n",
    "average = km / liters\n",
    "print(\"%.3f km/l\" %average)"
   ]
  },
  {
   "cell_type": "markdown",
   "id": "saved-directive",
   "metadata": {},
   "source": [
    "# URI Online Judge | 1015\n",
    "Distance Between Two Points"
   ]
  },
  {
   "cell_type": "code",
   "execution_count": 29,
   "id": "dried-healing",
   "metadata": {},
   "outputs": [
    {
     "name": "stdout",
     "output_type": "stream",
     "text": [
      "2.5 -0.4\n",
      "-12.2 7.0\n",
      "16.4575\n"
     ]
    }
   ],
   "source": [
    "import math\n",
    "line1 = input()\n",
    "line2 = input()\n",
    "x1, y1 = line1.split()\n",
    "x2, y2 = line2.split()\n",
    "x1 = float(x1)\n",
    "x2 = float(x2)\n",
    "y1 = float(y1)\n",
    "y2 = float(y2)\n",
    "distance = math.sqrt(((x2-x1)**2) + ((y2-y1)**2))\n",
    "print(\"%.4f\" %distance)"
   ]
  },
  {
   "cell_type": "markdown",
   "id": "vital-narrative",
   "metadata": {},
   "source": [
    "# URI Online Judge | 1016\n",
    "Distance"
   ]
  },
  {
   "cell_type": "code",
   "execution_count": 32,
   "id": "patient-liabilities",
   "metadata": {},
   "outputs": [
    {
     "name": "stdout",
     "output_type": "stream",
     "text": [
      "7\n",
      "14 minutos\n"
     ]
    }
   ],
   "source": [
    "km = int(input())\n",
    "time = km * 2\n",
    "print(time, \"minutos\")"
   ]
  },
  {
   "cell_type": "markdown",
   "id": "sunrise-scotland",
   "metadata": {},
   "source": [
    "# URI Online Judge | 1017\n",
    "Fuel Spent"
   ]
  },
  {
   "cell_type": "code",
   "execution_count": 35,
   "id": "everyday-family",
   "metadata": {},
   "outputs": [
    {
     "name": "stdout",
     "output_type": "stream",
     "text": [
      "22\n",
      "67\n",
      "122.833\n"
     ]
    }
   ],
   "source": [
    "hours = int(input())\n",
    "km_per_hour = int(input())\n",
    "km = km_per_hour * hours\n",
    "liters = km / 12\n",
    "print(\"%.3f\" %liters)"
   ]
  },
  {
   "cell_type": "markdown",
   "id": "alike-homework",
   "metadata": {},
   "source": [
    "# URI Online Judge | 1018\n",
    "Banknotes"
   ]
  },
  {
   "cell_type": "code",
   "execution_count": 43,
   "id": "complex-plymouth",
   "metadata": {},
   "outputs": [
    {
     "name": "stdout",
     "output_type": "stream",
     "text": [
      "503\n",
      "503\n",
      "5 nota(s) de R$ 100,00\n",
      "0 nota(s) de R$ 50,00\n",
      "0 nota(s) de R$ 20,00\n",
      "0 nota(s) de R$ 10,00\n",
      "0 nota(s) de R$ 5,00\n",
      "1 nota(s) de R$ 2,00\n",
      "1 nota(s) de R$ 1,00\n"
     ]
    }
   ],
   "source": [
    "amount = int(input())\n",
    "print(amount)\n",
    "banknotes_100 = int(amount / 100)\n",
    "print(banknotes_100, \"nota(s) de R$ 100,00\")\n",
    "amount = amount % 100\n",
    "banknotes_50 = int(amount / 50)\n",
    "print(banknotes_50, \"nota(s) de R$ 50,00\")\n",
    "amount = amount % 50\n",
    "banknotes_20 = int(amount / 20)\n",
    "print(banknotes_20, \"nota(s) de R$ 20,00\")\n",
    "amount = amount % 20\n",
    "banknotes_10 = int(amount / 10)\n",
    "print(banknotes_10, \"nota(s) de R$ 10,00\")\n",
    "amount = amount % 10\n",
    "banknotes_5 = int(amount / 5)\n",
    "print(banknotes_5, \"nota(s) de R$ 5,00\")\n",
    "amount = amount % 5\n",
    "banknotes_2 = int(amount / 2)\n",
    "print(banknotes_2, \"nota(s) de R$ 2,00\")\n",
    "amount = amount % 2\n",
    "banknotes_1 = int(amount / 1)\n",
    "print(banknotes_1, \"nota(s) de R$ 1,00\")\n",
    "amount = amount % 1"
   ]
  },
  {
   "cell_type": "markdown",
   "id": "oriental-jaguar",
   "metadata": {},
   "source": [
    "# URI Online Judge | 1019\n",
    "Time Conversion"
   ]
  },
  {
   "cell_type": "code",
   "execution_count": 49,
   "id": "multiple-coupon",
   "metadata": {},
   "outputs": [
    {
     "name": "stdout",
     "output_type": "stream",
     "text": [
      "140153\n",
      "38:55:53\n"
     ]
    }
   ],
   "source": [
    "time = int(input())\n",
    "hours = int(time / 3600)\n",
    "time = time % 3600\n",
    "minutes = int(time / 60)\n",
    "seconds = time % 60\n",
    "print(f\"{hours}:{minutes}:{seconds}\")"
   ]
  },
  {
   "cell_type": "markdown",
   "id": "several-ceiling",
   "metadata": {},
   "source": [
    "# URI Online Judge | 1020\n",
    "Age in Days"
   ]
  },
  {
   "cell_type": "code",
   "execution_count": 53,
   "id": "impressive-mineral",
   "metadata": {},
   "outputs": [
    {
     "name": "stdout",
     "output_type": "stream",
     "text": [
      "5\n",
      "0 ano(s)\n",
      "0 mes(es)\n",
      "5 dia(s)\n"
     ]
    }
   ],
   "source": [
    "age_in_days = int(input())\n",
    "year = int(age_in_days / 365)\n",
    "age_in_days = age_in_days % 365\n",
    "month = int(age_in_days / 30)\n",
    "day = age_in_days % 30\n",
    "print(year, \"ano(s)\")\n",
    "print(month, \"mes(es)\")\n",
    "print(day, \"dia(s)\")"
   ]
  },
  {
   "cell_type": "markdown",
   "id": "modern-geometry",
   "metadata": {},
   "source": [
    "# URI Online Judge | 1021\n",
    "Banknotes and Coins"
   ]
  },
  {
   "cell_type": "code",
   "execution_count": 60,
   "id": "engaged-barcelona",
   "metadata": {},
   "outputs": [
    {
     "name": "stdout",
     "output_type": "stream",
     "text": [
      "91.01\n",
      "NOTAS:\n",
      "0 nota(s) de R$ 100.00\n",
      "1 nota(s) de R$ 50.00\n",
      "2 nota(s) de R$ 20.00\n",
      "0 nota(s) de R$ 10.00\n",
      "0 nota(s) de R$ 5.00\n",
      "0 nota(s) de R$ 2.00\n",
      "MOEDAS:\n",
      "1 moeda(s) de R$ 1.00\n",
      "0 moeda(s) de R$ 0.50\n",
      "0 moeda(s) de R$ 0.25\n",
      "0 moeda(s) de R$ 0.10\n",
      "0 moeda(s) de R$ 0.05\n",
      "1 moeda(s) de R$ 0.01\n"
     ]
    }
   ],
   "source": [
    "amount = float(input())\n",
    "print(\"NOTAS:\")\n",
    "note_100 = int(amount / 100)\n",
    "amount = amount % 100\n",
    "print(note_100, \"nota(s) de R$ 100.00\")\n",
    "note_50 = int(amount / 50)\n",
    "amount = amount % 50\n",
    "print(note_50, \"nota(s) de R$ 50.00\")\n",
    "note_20 = int(amount / 20)\n",
    "amount = amount % 20\n",
    "print(note_20, \"nota(s) de R$ 20.00\")\n",
    "note_10 = int(amount / 10)\n",
    "amount = amount % 10\n",
    "print(note_10, \"nota(s) de R$ 10.00\")\n",
    "note_5 = int(amount / 5)\n",
    "amount = amount % 5\n",
    "print(note_5, \"nota(s) de R$ 5.00\")\n",
    "note_2 = int(amount / 2)\n",
    "amount = amount % 2\n",
    "print(note_2, \"nota(s) de R$ 2.00\")\n",
    "print(\"MOEDAS:\")\n",
    "coin_1 = int(amount / 1)\n",
    "amount = amount % 1\n",
    "print(coin_1, \"moeda(s) de R$ 1.00\")\n",
    "coin_50 = int(amount / .50)\n",
    "amount = amount % .50\n",
    "print(coin_50, \"moeda(s) de R$ 0.50\")\n",
    "coin_25 = int(amount / .25)\n",
    "amount = amount % .25\n",
    "print(coin_25, \"moeda(s) de R$ 0.25\")\n",
    "coin_10 = int(amount / .10)\n",
    "amount = amount % .10\n",
    "print(coin_10, \"moeda(s) de R$ 0.10\")\n",
    "coin_05 = int(amount / .05)\n",
    "amount = amount % .05\n",
    "print(coin_05, \"moeda(s) de R$ 0.05\")\n",
    "coin_01 = int(amount / .01)\n",
    "amount = amount % .01\n",
    "print(coin_01, \"moeda(s) de R$ 0.01\")"
   ]
  },
  {
   "cell_type": "code",
   "execution_count": 61,
   "id": "polyphonic-columbus",
   "metadata": {},
   "outputs": [
    {
     "name": "stdout",
     "output_type": "stream",
     "text": [
      "576.73\n",
      "NOTAS:\n",
      "5 nota(s) de R$ 100.00\n",
      "1 nota(s) de R$ 50.00\n",
      "1 nota(s) de R$ 20.00\n",
      "0 nota(s) de R$ 10.00\n",
      "1 nota(s) de R$ 5.00\n",
      "0 nota(s) de R$ 2.00\n",
      "MOEDAS:\n",
      "1 moeda(s) de R$ 1.00\n",
      "1 moeda(s) de R$ 0.50\n",
      "0 moeda(s) de R$ 0.25\n",
      "2 moeda(s) de R$ 0.10\n",
      "0 moeda(s) de R$ 0.05\n",
      "3 moeda(s) de R$ 0.01\n"
     ]
    }
   ],
   "source": [
    "amount = float(input())\n",
    "print(\"NOTAS:\")\n",
    "note_100 = int(amount / 100)\n",
    "amount = amount % 100\n",
    "print(note_100, \"nota(s) de R$ 100.00\")\n",
    "note_50 = int(amount / 50)\n",
    "amount = amount % 50\n",
    "print(note_50, \"nota(s) de R$ 50.00\")\n",
    "note_20 = int(amount / 20)\n",
    "amount = amount % 20\n",
    "print(note_20, \"nota(s) de R$ 20.00\")\n",
    "note_10 = int(amount / 10)\n",
    "amount = amount % 10\n",
    "print(note_10, \"nota(s) de R$ 10.00\")\n",
    "note_5 = int(amount / 5)\n",
    "amount = amount % 5\n",
    "print(note_5, \"nota(s) de R$ 5.00\")\n",
    "note_2 = int(amount / 2)\n",
    "amount = amount % 2\n",
    "print(note_2, \"nota(s) de R$ 2.00\")\n",
    "\n",
    "amount = amount * 100\n",
    "print(\"MOEDAS:\")\n",
    "coin_1 = int(amount / 100)\n",
    "amount = amount % 100\n",
    "print(coin_1, \"moeda(s) de R$ 1.00\")\n",
    "coin_50 = int(amount / 50)\n",
    "amount = amount % 50\n",
    "print(coin_50, \"moeda(s) de R$ 0.50\")\n",
    "coin_25 = int(amount / 25)\n",
    "amount = amount % 25\n",
    "print(coin_25, \"moeda(s) de R$ 0.25\")\n",
    "coin_10 = int(amount / 10)\n",
    "amount = amount % 10\n",
    "print(coin_10, \"moeda(s) de R$ 0.10\")\n",
    "coin_05 = int(amount / 5)\n",
    "amount = amount % 5\n",
    "print(coin_05, \"moeda(s) de R$ 0.05\")\n",
    "coin_01 = int(amount / 1)\n",
    "amount = amount % 1\n",
    "print(coin_01, \"moeda(s) de R$ 0.01\")"
   ]
  },
  {
   "cell_type": "markdown",
   "id": "lasting-shield",
   "metadata": {},
   "source": [
    "# URI Online Judge | 1035\n",
    "Selection Test 1"
   ]
  },
  {
   "cell_type": "code",
   "execution_count": 65,
   "id": "competitive-monday",
   "metadata": {},
   "outputs": [
    {
     "name": "stdout",
     "output_type": "stream",
     "text": [
      "2 3 2 6\n",
      "Valores aceitos\n"
     ]
    }
   ],
   "source": [
    "line = input()\n",
    "a, b, c, d = line.split()\n",
    "a = int(a)\n",
    "b = int(b)\n",
    "c = int(c)\n",
    "d = int(d)\n",
    "if (b>c and d>a) and ((c+d)>(a+b)) and ((c>=0) and (d>=0)) and (a%2 == 0):\n",
    "    print(\"Valores aceitos\")\n",
    "else:\n",
    "    print(\"Valores nao aceitos\")"
   ]
  },
  {
   "cell_type": "markdown",
   "id": "talented-injury",
   "metadata": {},
   "source": [
    "# URI Online Judge | 1036\n",
    "Bhaskara's Formula"
   ]
  },
  {
   "cell_type": "code",
   "execution_count": 72,
   "id": "injured-quick",
   "metadata": {},
   "outputs": [
    {
     "name": "stdout",
     "output_type": "stream",
     "text": [
      "10.3 203.0 5.0\n",
      "R1 = -0.02466\n",
      "R2 = -19.68408\n"
     ]
    }
   ],
   "source": [
    "import math\n",
    "line = input()\n",
    "a, b, c = line.split()\n",
    "a = float(a)\n",
    "b = float(b)\n",
    "c = float(c)\n",
    "try:\n",
    "    r1 = ((-b + math.sqrt((b**2) - (4 * a * c))) / (2 * a))\n",
    "    r2 = ((-b - math.sqrt((b**2) - (4 * a * c))) / (2 * a))\n",
    "    print(\"R1 = %.5f\" %r1)\n",
    "    print(\"R2 = %.5f\" %r2)\n",
    "except:\n",
    "    print(\"Impossivel calcular\")"
   ]
  },
  {
   "cell_type": "markdown",
   "id": "italian-danger",
   "metadata": {},
   "source": [
    "# URI Online Judge | 1037\n",
    "Interval"
   ]
  },
  {
   "cell_type": "code",
   "execution_count": 96,
   "id": "inappropriate-warehouse",
   "metadata": {},
   "outputs": [
    {
     "name": "stdout",
     "output_type": "stream",
     "text": [
      "75.5\n",
      "Intervalo (75,100]\n"
     ]
    }
   ],
   "source": [
    "number = float(input())\n",
    "if(number<0 or number>100):\n",
    "    print((\"Fora de intervalo\"))\n",
    "else:\n",
    "    if (0 <= number and number <= 25):\n",
    "        print(\"Intervalo [0,25]\")\n",
    "    elif (25 < number and number <= 50):\n",
    "        print(\"Intervalo (25,50]\")\n",
    "    elif (50 < number and number <= 75):\n",
    "        print(\"Intervalo (50,75]\")\n",
    "    else:\n",
    "        print(\"Intervalo (75,100]\")"
   ]
  },
  {
   "cell_type": "code",
   "execution_count": null,
   "id": "respective-notion",
   "metadata": {},
   "outputs": [],
   "source": [
    "X = float(input())\n",
    "if X>75 and X<=100:\n",
    "    print(\"Intervalo (75,100]\")\n",
    "elif X>50 and X<=75:\n",
    "    print(\"Intervalo (50,75]\")\n",
    "elif X>25 and X<=50:\n",
    "    print(\"Intervalo (25,50]\")\n",
    "elif X>=0 and X<=25:\n",
    "    print(\"Intervalo [0,25]\")\n",
    "else:\n",
    "    print(\"Fora de intervalo\")"
   ]
  }
 ],
 "metadata": {
  "kernelspec": {
   "display_name": "Python 3",
   "language": "python",
   "name": "python3"
  },
  "language_info": {
   "codemirror_mode": {
    "name": "ipython",
    "version": 3
   },
   "file_extension": ".py",
   "mimetype": "text/x-python",
   "name": "python",
   "nbconvert_exporter": "python",
   "pygments_lexer": "ipython3",
   "version": "3.8.5"
  }
 },
 "nbformat": 4,
 "nbformat_minor": 5
}
